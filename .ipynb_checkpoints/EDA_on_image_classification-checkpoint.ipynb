{
 "cells": [
  {
   "cell_type": "code",
   "execution_count": 60,
   "id": "07a3e867-c0c5-4aff-a26e-1b0b553af5af",
   "metadata": {},
   "outputs": [],
   "source": [
    "import pandas as pd\n",
    "import numpy as npy"
   ]
  },
  {
   "cell_type": "code",
   "execution_count": 62,
   "id": "04aec897-cac5-4ee6-8484-6c2477afaa11",
   "metadata": {},
   "outputs": [],
   "source": [
    "def unpickle(file):\n",
    "    import pickle\n",
    "    with open(file, 'rb') as fo:\n",
    "        dict = pickle.load(fo, encoding='bytes')\n",
    "    return dict\n",
    "data1 = unpickle(\"cifar-10-batches-py/data_batch_1\")"
   ]
  },
  {
   "cell_type": "code",
   "execution_count": 63,
   "id": "a4024ffd-504f-4d63-9435-7543b6b2e94c",
   "metadata": {},
   "outputs": [],
   "source": [
    "labels = data1[b'labels']\n",
    "data = data1[b'data']\n",
    "# files = data1[b'filenames']"
   ]
  },
  {
   "cell_type": "code",
   "execution_count": 59,
   "id": "ceb4f042-c53e-4c57-87c1-c5d2db7d17b0",
   "metadata": {},
   "outputs": [],
   "source": [
    "x_train = npy.array(data)\n",
    "x_train = x_train.reshape(10000,32,32,3)\n",
    "y_train = npy.array(labels)"
   ]
  },
  {
   "cell_type": "code",
   "execution_count": null,
   "id": "3eb013c4-f935-40ce-8f9d-86fd7fffe5e0",
   "metadata": {},
   "outputs": [],
   "source": []
  }
 ],
 "metadata": {
  "kernelspec": {
   "display_name": "Python 3 (ipykernel)",
   "language": "python",
   "name": "python3"
  },
  "language_info": {
   "codemirror_mode": {
    "name": "ipython",
    "version": 3
   },
   "file_extension": ".py",
   "mimetype": "text/x-python",
   "name": "python",
   "nbconvert_exporter": "python",
   "pygments_lexer": "ipython3",
   "version": "3.12.2"
  }
 },
 "nbformat": 4,
 "nbformat_minor": 5
}
