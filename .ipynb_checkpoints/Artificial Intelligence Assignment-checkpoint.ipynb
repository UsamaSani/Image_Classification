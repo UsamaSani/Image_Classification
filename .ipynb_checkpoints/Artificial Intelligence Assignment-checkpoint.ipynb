{
 "cells": [
  {
   "cell_type": "markdown",
   "id": "cf88f2ed",
   "metadata": {},
   "source": [
    "<h1>STRINGS IN PYTHON</h1>"
   ]
  },
  {
   "cell_type": "code",
   "execution_count": 11,
   "id": "a755d435",
   "metadata": {},
   "outputs": [
    {
     "name": "stdout",
     "output_type": "stream",
     "text": [
      "Hello, World!\n",
      "Length of the string: 13\n",
      "First character of the string: H\n",
      "Substring: World\n",
      "Concatenated string: Hello, World! Have a nice day!\n",
      "Uppercase string: HELLO, WORLD!\n",
      "Lowercase string: hello, world!\n"
     ]
    }
   ],
   "source": [
    "# Define a string\n",
    "str1 = \"Hello, World!\"\n",
    "\n",
    "# Print the string\n",
    "print(str1)\n",
    "\n",
    "# Length of the string\n",
    "str_length = len(str1)\n",
    "print(\"Length of the string:\", str_length)\n",
    "\n",
    "# Accessing individual characters\n",
    "first_char = str1[0]\n",
    "print(\"First character of the string:\", first_char)\n",
    "\n",
    "# Slicing the string\n",
    "s = str1[7:12]\n",
    "print(\"Substring:\", s)\n",
    "\n",
    "# Concatenation\n",
    "str2 = \" Have a nice day!\"\n",
    "new_string = str1 + str2\n",
    "print(\"Concatenated string:\", new_string)\n",
    "\n",
    "# String methods\n",
    "uppercase_string = str1.upper()\n",
    "print(\"Uppercase string:\", uppercase_string)\n",
    "\n",
    "lowercase_string = str1.lower()\n",
    "print(\"Lowercase string:\", lowercase_string)"
   ]
  },
  {
   "cell_type": "markdown",
   "id": "527ed83e",
   "metadata": {},
   "source": [
    "<h1>DATA TYPES  IN PYTHON</h1>"
   ]
  },
  {
   "cell_type": "code",
   "execution_count": 12,
   "id": "bd91fa0c",
   "metadata": {
    "scrolled": true
   },
   "outputs": [
    {
     "name": "stdout",
     "output_type": "stream",
     "text": [
      "Integer: 5\n",
      "Float: 9.8\n",
      "String: Hello, World!\n",
      "Boolean: True\n",
      "Boolean: False\n",
      "List: [7, 47, 42, 15, 5]\n",
      "Tuple: (6, 7, 8, 9, 10)\n",
      "Dictionary: {'Name': 'Babar', 'Number': 56, 'Age': 29}\n",
      "Set: {1, 2, 3, 4, 5}\n"
     ]
    }
   ],
   "source": [
    "# Integer\n",
    "i = 5\n",
    "print(\"Integer:\", i)\n",
    "\n",
    "# Float\n",
    "f = 9.8\n",
    "print(\"Float:\", f)\n",
    "\n",
    "# String\n",
    "str1 = \"Hello, World!\"\n",
    "print(\"String:\", str1)\n",
    "\n",
    "# Boolean\n",
    "bt = True\n",
    "print(\"Boolean:\", bt)\n",
    "bf = False\n",
    "print(\"Boolean:\", bf)\n",
    "\n",
    "# List\n",
    "L = [7, 47, 42, 15, 5]\n",
    "print(\"List:\", L)\n",
    "\n",
    "# Tuple\n",
    "t = (6, 7, 8, 9, 10)\n",
    "print(\"Tuple:\", t)\n",
    "\n",
    "# Dictionary\n",
    "d = {'Name': 'Babar', 'Number': 56, 'Age': 29}\n",
    "print(\"Dictionary:\", d)\n",
    "\n",
    "# Set\n",
    "s = {1, 2, 3, 4, 5}\n",
    "print(\"Set:\", s)"
   ]
  },
  {
   "cell_type": "markdown",
   "id": "20344b8a",
   "metadata": {},
   "source": [
    "<h1>LOOPS IN PYTHON</h1>"
   ]
  },
  {
   "cell_type": "code",
   "execution_count": 13,
   "id": "dbc1a139",
   "metadata": {},
   "outputs": [
    {
     "name": "stdout",
     "output_type": "stream",
     "text": [
      "For loop:\n",
      "0\n",
      "1\n",
      "2\n",
      "3\n",
      "4\n",
      "\n",
      "While loop:\n",
      "0\n",
      "1\n",
      "2\n",
      "3\n",
      "4\n",
      "\n",
      "Nested loops:\n",
      "(0, 0)\n",
      "(0, 1)\n",
      "(1, 0)\n",
      "(1, 1)\n",
      "(2, 0)\n",
      "(2, 1)\n"
     ]
    }
   ],
   "source": [
    "# For loop\n",
    "print(\"For loop:\")\n",
    "for i in range(5):  # Looping over a range of numbers\n",
    "    print(i)\n",
    "\n",
    "# While loop\n",
    "print(\"\\nWhile loop:\")\n",
    "count = 0\n",
    "while count < 5:\n",
    "    print(count)\n",
    "    count += 1\n",
    "\n",
    "# Nested loops\n",
    "print(\"\\nNested loops:\")\n",
    "for i in range(3):\n",
    "    for j in range(2):\n",
    "        print(f\"({i}, {j})\")"
   ]
  },
  {
   "cell_type": "markdown",
   "id": "38e46209",
   "metadata": {},
   "source": [
    "<h1>CONDITIONAL STATEMENT IN PYTHON</h1>"
   ]
  },
  {
   "cell_type": "code",
   "execution_count": 15,
   "id": "d14375c8",
   "metadata": {},
   "outputs": [
    {
     "name": "stdout",
     "output_type": "stream",
     "text": [
      "i is less than 9\n",
      "j is odd\n",
      "k is greater than 40\n",
      "a is greater than or equal to 10\n"
     ]
    }
   ],
   "source": [
    "# If statement\n",
    "i = 7\n",
    "if i < 9:\n",
    "    print(\"i is less than 9\")\n",
    "\n",
    "# If-else statement\n",
    "j = 15\n",
    "if j % 2 == 0:\n",
    "    print(\"j is even\")\n",
    "else:\n",
    "    print(\"j is odd\")\n",
    "\n",
    "# If-elif-else statement\n",
    "k = 42\n",
    "if k < 40:\n",
    "    print(\"k is less than 40\")\n",
    "elif k == 40:\n",
    "    print(\"k is equal to 40\")\n",
    "else:\n",
    "    print(\"k is greater than 40\")\n",
    "\n",
    "# Nested if statements\n",
    "a = 47\n",
    "if a > 5:\n",
    "    if a < 10:\n",
    "        print(\"a is between 5 and 10\")\n",
    "    else:\n",
    "        print(\"a is greater than or equal to 10\")\n",
    "else:\n",
    "    print(\"a is less than or equal to 5\")"
   ]
  },
  {
   "cell_type": "markdown",
   "id": "09352904",
   "metadata": {},
   "source": [
    "<h1>FUNCTIONS IN PYTHON</h1>"
   ]
  },
  {
   "cell_type": "code",
   "execution_count": 16,
   "id": "31881964",
   "metadata": {},
   "outputs": [
    {
     "name": "stdout",
     "output_type": "stream",
     "text": [
      "Hello, world!\n",
      "Hello, Rayyan\n",
      "Hello, user\n",
      "Hello, Rayyan\n",
      "16\n",
      "720\n"
     ]
    }
   ],
   "source": [
    "# Function without Parameters:\n",
    "def greet():\n",
    "    print(\"Hello, world!\")\n",
    "\n",
    "greet()  \n",
    "\n",
    "# Function with Parameters:\n",
    "def greet(name):\n",
    "    print(\"Hello,\", name)\n",
    "\n",
    "greet(\"Rayyan\")\n",
    "\n",
    "# Function with Default Parameters:\n",
    "def greet(name=\"user\"):\n",
    "    print(\"Hello,\", name)\n",
    "\n",
    "greet()  \n",
    "greet(\"Rayyan\") \n",
    "\n",
    "#Function with Return Value:\n",
    "def add(i, j):\n",
    "    return i + j\n",
    "\n",
    "answer = add(7, 9)\n",
    "print(answer) \n",
    "\n",
    "#Recursive Function:\n",
    "def factorial(a):\n",
    "    if a == 0:\n",
    "        return 1\n",
    "    else:\n",
    "        return a * factorial(a - 1)\n",
    "\n",
    "print(factorial(6))"
   ]
  },
  {
   "cell_type": "markdown",
   "id": "fe2a5631",
   "metadata": {},
   "source": [
    "<h1>CLASSES IN PYTHON</h1>"
   ]
  },
  {
   "cell_type": "code",
   "execution_count": 18,
   "id": "07db7b1c",
   "metadata": {},
   "outputs": [
    {
     "name": "stdout",
     "output_type": "stream",
     "text": [
      "Hello, Rayyan\n",
      "Joye\n",
      "Kassie\n",
      "Canis\n",
      "Canis\n",
      "7\n"
     ]
    }
   ],
   "source": [
    "# Simple Class:\n",
    "class Class1:\n",
    "    def __init__(self, name):\n",
    "        self.name = name\n",
    "\n",
    "    def greet(self):\n",
    "        print(\"Hello,\", self.name)\n",
    "\n",
    "Object1 = Class1(\"Rayyan\")\n",
    "Object1.greet() \n",
    "\n",
    "# Class with Class Variable and Instance Variable:\n",
    "class Dog:\n",
    "    species = \"Canis\"\n",
    "\n",
    "    def __init__(self, name):\n",
    "        self.name = name\n",
    "\n",
    "dog1 = Dog(\"Joye\")\n",
    "dog2 = Dog(\"Kassie\")\n",
    "\n",
    "print(dog1.name)  \n",
    "print(dog2.name) \n",
    "print(dog1.species) \n",
    "print(dog2.species) \n",
    "\n",
    "# Class with Private Members:\n",
    "class Class2:\n",
    "    def __init__(self):\n",
    "        self.__private_var = 7\n",
    "\n",
    "    def get_private_var(self):\n",
    "        return self.__private_var\n",
    "\n",
    "Object2 = Class2()\n",
    "print(Object2.get_private_var())"
   ]
  },
  {
   "cell_type": "markdown",
   "id": "e11b048c",
   "metadata": {},
   "source": [
    "<h1>LIBRARIES IN PYTHON</h1>"
   ]
  },
  {
   "cell_type": "markdown",
   "id": "c2ed8787",
   "metadata": {},
   "source": [
    "<h3>NumPy:</h3>"
   ]
  },
  {
   "cell_type": "markdown",
   "id": "3207fa87",
   "metadata": {},
   "source": [
    "**What is numpy?**\n",
    "\n",
    "NumPy is a fundamental package for numerical computing in Python. It provides support for arrays, matrices, and mathematical functions to operate on these arrays. NumPy is widely used in scientific computing, data analysis, and machine learning due to its efficiency and convenience.\n",
    "\n",
    "**KEY FEATURES:**\n",
    "\n",
    "1. **Multi-dimensional arrays:** NumPy provides an array object that represents a grid of values, which can be of any dimension. These arrays are fast and efficient for numerical operations.\n",
    "2. **Element-wise operations:** NumPy allows performing mathematical operations on arrays element-wise, which makes it convenient for vectorized computations.\n",
    "3. **Broadcasting:** NumPy can handle operations between arrays of different shapes and sizes through broadcasting, which automatically expands smaller arrays to match the shape of larger arrays.\n",
    "4. **Linear algebra operations:** NumPy provides a wide range of linear algebra functions, such as matrix multiplication, matrix decomposition, eigenvalue computation, etc.\n",
    "5. **Random number generation:** NumPy includes a powerful random number generation module for generating random data or sampling from various probability distributions.\n",
    "6. **Integration with other libraries:** NumPy integrates well with other libraries and tools in the Python ecosystem, such as SciPy, Matplotlib, and pandas, making it a core component of the scientific computing stack in Python.\n",
    "\n",
    "Overall, NumPy provides a solid foundation for numerical computing in Python and is an essential library for anyone working with numerical data or mathematical operations in Python."
   ]
  },
  {
   "cell_type": "code",
   "execution_count": 24,
   "id": "57e59c05",
   "metadata": {},
   "outputs": [
    {
     "name": "stdout",
     "output_type": "stream",
     "text": [
      "[7 1 2 4 5]\n",
      "[0. 0. 0.]\n",
      "[1. 1. 1.]\n",
      "[3. 6. 9.]\n",
      "[1 2 4 5 7]\n",
      "[10 20 30 40 50 60 70 80]\n"
     ]
    }
   ],
   "source": [
    "import numpy as np\n",
    "arr1 = np.array([7, 1, 2, 4, 5])\n",
    "print(arr1)\n",
    "\n",
    "# Functions in NumPy\n",
    "arr2 = np.zeros(3)\n",
    "print(arr2)\n",
    "arr2 = np.ones(3)\n",
    "print(arr2)\n",
    "empty_arr2 = np.empty(3)\n",
    "empty_arr2[0] = 3\n",
    "empty_arr2[1] = 6\n",
    "empty_arr2[2] = 9\n",
    "print(empty_arr2)\n",
    "print(np.sort(arr1))\n",
    "i = np.array([10, 20, 30, 40])\n",
    "j = np.array([50, 60, 70, 80])\n",
    "print(np.concatenate((i, j)))"
   ]
  },
  {
   "cell_type": "markdown",
   "id": "aa7245ba",
   "metadata": {},
   "source": [
    "<h3>pandas:</h3>"
   ]
  },
  {
   "cell_type": "markdown",
   "id": "7f34b911",
   "metadata": {},
   "source": [
    "**What is pandas?**\n",
    "\n",
    "Pandas is a powerful and flexible open-source data analysis and manipulation library for Python. It provides high-performance, easy-to-use data structures and data analysis tools for working with structured data, such as tabular data, time series, and more.\n",
    "\n",
    "**Key Features:**\n",
    "\n",
    "1. **DataFrame:** Pandas introduces the DataFrame, a two-dimensional labeled data structure with columns of potentially different types. It is similar to a spreadsheet or SQL table, and it is the primary data structure for Pandas. DataFrames can be easily created from various data sources like CSV files, Excel sheets, SQL databases, or Python data structures.\n",
    "2. **Series:** Pandas also introduces the Series data structure, which is a one-dimensional labeled array capable of holding any data type. Series are the building blocks of DataFrames and can be thought of as a single column of a DataFrame.\n",
    "3. **Data manipulation:** Pandas provides a rich set of functions and methods for manipulating data, including data cleaning, filtering, sorting, merging, reshaping, and aggregating. These operations allow users to perform complex data transformations with ease.\n",
    "4. **Missing data handling:** Pandas offers robust support for handling missing or incomplete data, providing functions for detecting, removing, or filling missing values in datasets.\n",
    "5. **Time series data:** Pandas includes powerful tools for working with time series data, including date/time indexing, resampling, and time zone handling.\n",
    "6. **Data visualization:** While Pandas itself does not have built-in visualization capabilities, it integrates seamlessly with other Python libraries for data visualization, such as Matplotlib and Seaborn, allowing users to create informative plots and graphs directly from Pandas data structures.\n",
    "7. **Integration with other libraries:** Pandas integrates well with other Python libraries and tools commonly used in data analysis and machine learning workflows, such as NumPy, Scikit-learn, and Jupyter notebooks.\n",
    "\n",
    "Overall, Pandas is widely used by data scientists, analysts, and developers for data exploration, cleaning, preprocessing, and analysis tasks, making it an essential tool in the Python ecosystem for working with structured data."
   ]
  },
  {
   "cell_type": "markdown",
   "id": "2c2f5da2",
   "metadata": {},
   "source": [
    "<h2>HANDLING DATASETS USING pandas</h2>\n",
    "\n",
    "<h3>Dataset 1:</h3>"
   ]
  },
  {
   "cell_type": "code",
   "execution_count": 25,
   "id": "857b4383",
   "metadata": {},
   "outputs": [
    {
     "name": "stdout",
     "output_type": "stream",
     "text": [
      "   work_year experience_level employment_type               job_title  salary  \\\n",
      "0       2022               EN              FT   Cyber Program Manager   63000   \n",
      "1       2022               MI              FT        Security Analyst   95000   \n",
      "2       2022               MI              FT        Security Analyst   70000   \n",
      "3       2022               MI              FT     IT Security Analyst  250000   \n",
      "4       2022               EN              CT  Cyber Security Analyst  120000   \n",
      "\n",
      "  salary_currency  salary_in_usd employee_residence  remote_ratio  \\\n",
      "0             USD          63000                 US            50   \n",
      "1             USD          95000                 US             0   \n",
      "2             USD          70000                 US             0   \n",
      "3             BRL          48853                 BR            50   \n",
      "4             USD         120000                 BW           100   \n",
      "\n",
      "  company_location company_size  \n",
      "0               US            S  \n",
      "1               US            M  \n",
      "2               US            M  \n",
      "3               BR            L  \n",
      "4               BW            S  \n"
     ]
    }
   ],
   "source": [
    "import pandas as pd\n",
    "# Reading Data from CSV File:\n",
    "df = pd.read_csv('salaries_cyber.csv')\n",
    "print(df.head())"
   ]
  },
  {
   "cell_type": "code",
   "execution_count": 26,
   "id": "8eaa1312",
   "metadata": {},
   "outputs": [
    {
     "name": "stdout",
     "output_type": "stream",
     "text": [
      "      work_year experience_level employment_type  \\\n",
      "1242       2020               MI              FT   \n",
      "1243       2021               SE              FT   \n",
      "1244       2021               SE              FT   \n",
      "1245       2021               MI              FT   \n",
      "1246       2021               MI              FT   \n",
      "\n",
      "                         job_title  salary salary_currency  salary_in_usd  \\\n",
      "1242        Cyber Security Analyst  140000             AUD          96422   \n",
      "1243  Information Security Manager   60000             GBP          82528   \n",
      "1244  Penetration Testing Engineer  126000             USD         126000   \n",
      "1245  Information Security Analyst   42000             GBP          57769   \n",
      "1246   Threat Intelligence Analyst   66310             USD          66310   \n",
      "\n",
      "     employee_residence  remote_ratio company_location company_size  \n",
      "1242                 AU            50               AU            M  \n",
      "1243                 GB            50               GB            L  \n",
      "1244                 US           100               US            L  \n",
      "1245                 GB           100               GB            L  \n",
      "1246                 US             0               US            L  \n"
     ]
    }
   ],
   "source": [
    "print(df.tail())"
   ]
  },
  {
   "cell_type": "code",
   "execution_count": 27,
   "id": "8346d2a7",
   "metadata": {},
   "outputs": [
    {
     "name": "stdout",
     "output_type": "stream",
     "text": [
      "(1247, 11)\n",
      "Index(['work_year', 'experience_level', 'employment_type', 'job_title',\n",
      "       'salary', 'salary_currency', 'salary_in_usd', 'employee_residence',\n",
      "       'remote_ratio', 'company_location', 'company_size'],\n",
      "      dtype='object')\n",
      "         work_year        salary  salary_in_usd  remote_ratio\n",
      "count  1247.000000  1.247000e+03    1247.000000   1247.000000\n",
      "mean   2021.316760  5.608525e+05  120278.218925     71.491580\n",
      "std       0.715501  1.415944e+07   70291.394942     39.346851\n",
      "min    2020.000000  1.740000e+03    2000.000000      0.000000\n",
      "25%    2021.000000  7.975450e+04   74594.500000     50.000000\n",
      "50%    2021.000000  1.200000e+05  110000.000000    100.000000\n",
      "75%    2022.000000  1.600800e+05  150000.000000    100.000000\n",
      "max    2022.000000  5.000000e+08  910991.000000    100.000000\n",
      "0       2022\n",
      "1       2022\n",
      "2       2022\n",
      "3       2022\n",
      "4       2022\n",
      "        ... \n",
      "1242    2020\n",
      "1243    2021\n",
      "1244    2021\n",
      "1245    2021\n",
      "1246    2021\n",
      "Name: work_year, Length: 1247, dtype: int64\n"
     ]
    }
   ],
   "source": [
    "# Basic DataFrame Operations:\n",
    "print(df.shape)\n",
    "print(df.columns)\n",
    "print(df.describe())\n",
    "print(df['work_year'])"
   ]
  },
  {
   "cell_type": "markdown",
   "id": "9ad0265b",
   "metadata": {},
   "source": [
    "<h3>Dataset 2:</h3>"
   ]
  },
  {
   "cell_type": "code",
   "execution_count": 30,
   "id": "4452fe25",
   "metadata": {},
   "outputs": [
    {
     "name": "stdout",
     "output_type": "stream",
     "text": [
      "   Value           Label\n",
      "0      4     Afghanistan\n",
      "1      6         Albania\n",
      "2      7         Algeria\n",
      "3      8  American Samoa\n",
      "4      9         Andorra\n"
     ]
    }
   ],
   "source": [
    "# Reading Data from CSV File:\n",
    "df1 = pd.read_csv('Country-Code-Mapping.csv')\n",
    "print(df1.head())"
   ]
  },
  {
   "cell_type": "code",
   "execution_count": 31,
   "id": "5946c64e",
   "metadata": {},
   "outputs": [
    {
     "name": "stdout",
     "output_type": "stream",
     "text": [
      "     Value       Label\n",
      "147    171  Uzbekistan\n",
      "148    172   Venezuela\n",
      "149    173     Vietnam\n",
      "150    174       Yemen\n",
      "151    175    Zimbabwe\n"
     ]
    }
   ],
   "source": [
    "print(df1.tail())"
   ]
  },
  {
   "cell_type": "code",
   "execution_count": 32,
   "id": "766ec79c",
   "metadata": {},
   "outputs": [
    {
     "name": "stdout",
     "output_type": "stream",
     "text": [
      "(152, 2)\n",
      "Index(['Value', 'Label'], dtype='object')\n",
      "            Value\n",
      "count  152.000000\n",
      "mean    88.605263\n",
      "std     50.131504\n",
      "min      4.000000\n",
      "25%     44.750000\n",
      "50%     87.500000\n",
      "75%    132.500000\n",
      "max    175.000000\n",
      "0         Afghanistan\n",
      "1             Albania\n",
      "2             Algeria\n",
      "3      American Samoa\n",
      "4             Andorra\n",
      "            ...      \n",
      "147        Uzbekistan\n",
      "148         Venezuela\n",
      "149           Vietnam\n",
      "150             Yemen\n",
      "151          Zimbabwe\n",
      "Name: Label, Length: 152, dtype: object\n"
     ]
    }
   ],
   "source": [
    "# Basic DataFrame Operations:\n",
    "print(df1.shape)\n",
    "print(df1.columns)\n",
    "print(df1.describe())\n",
    "print(df1['Label'])"
   ]
  }
 ],
 "metadata": {
  "kernelspec": {
   "display_name": "Python 3 (ipykernel)",
   "language": "python",
   "name": "python3"
  },
  "language_info": {
   "codemirror_mode": {
    "name": "ipython",
    "version": 3
   },
   "file_extension": ".py",
   "mimetype": "text/x-python",
   "name": "python",
   "nbconvert_exporter": "python",
   "pygments_lexer": "ipython3",
   "version": "3.12.2"
  }
 },
 "nbformat": 4,
 "nbformat_minor": 5
}
